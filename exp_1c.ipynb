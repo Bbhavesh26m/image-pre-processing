{
  "nbformat": 4,
  "nbformat_minor": 0,
  "metadata": {
    "colab": {
      "provenance": []
    },
    "kernelspec": {
      "name": "python3",
      "display_name": "Python 3"
    },
    "language_info": {
      "name": "python"
    }
  },
  "cells": [
    {
      "cell_type": "code",
      "execution_count": null,
      "metadata": {
        "id": "CDowMv399k_l"
      },
      "outputs": [],
      "source": [
        "# Import the necessary Libraries\n",
        "import cv2\n",
        "import matplotlib.pyplot as plt\n",
        "\n",
        "# Read image from disk.\n",
        "img = cv2.imread('Ganesh.jpg')\n",
        "# Convert BGR image to RGB\n",
        "image_rgb = cv2.cvtColor(img, cv2.COLOR_BGR2RGB)\n",
        "\n",
        "width = image_rgb.shape[1]\n",
        "height = image_rgb.shape[0]\n",
        "\n",
        "tx = 100\n",
        "ty = 70\n",
        "\n",
        "# Translation matrix\n",
        "translation_matrix = np.array([[1, 0, tx], [0, 1, ty]], dtype=np.float32)\n",
        "# warpAffine does appropriate shifting given the Translation matrix.\n",
        "translated_image = cv2.warpAffine(image_rgb, translation_matrix, (width, height))\n",
        "\n",
        "# Create subplots\n",
        "fig, axs = plt.subplots(1, 2, figsize=(7, 4))\n",
        "\n",
        "# Plot the original image\n",
        "axs[0].imshow(image_rgb)\n",
        "axs[0].set_title('Original Image')\n",
        "\n",
        "# Plot the transalted image\n",
        "axs[1].imshow(translated_image)\n",
        "axs[1].set_title('Image Translation')\n",
        "\n",
        "# Remove ticks from the subplots\n",
        "for ax in axs:\n",
        "    ax.set_xticks([])\n",
        "    ax.set_yticks([])\n",
        "\n",
        "# Display the subplots\n",
        "plt.tight_layout()\n",
        "plt.show()\n"
      ]
    }
  ]
}